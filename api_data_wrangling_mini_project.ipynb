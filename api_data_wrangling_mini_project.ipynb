{
 "cells": [
  {
   "cell_type": "markdown",
   "metadata": {},
   "source": [
    "This exercise will require you to pull some data from https://data.nasdaq.com/ (formerly Quandl API)."
   ]
  },
  {
   "cell_type": "markdown",
   "metadata": {},
   "source": [
    "As a first step, you will need to register a free account on the https://data.nasdaq.com/ website."
   ]
  },
  {
   "cell_type": "markdown",
   "metadata": {},
   "source": [
    "After you register, you will be provided with a unique API key, that you should store:\n",
    "\n",
    "*Note*: Use a `.env` file and put your key in there and `python-dotenv` to access it in this notebook. \n",
    "\n",
    "The code below uses a key that was used when generating this project but has since been deleted. Never submit your keys to source control. There is a `.env-example` file in this repository to illusrtate what you need. Copy that to a file called `.env` and use your own api key in that `.env` file. Make sure you also have a `.gitignore` file with a line for `.env` added to it. \n",
    "\n",
    "The standard Python gitignore is [here](https://github.com/github/gitignore/blob/master/Python.gitignore) you can just copy that. "
   ]
  },
  {
   "cell_type": "code",
   "execution_count": 2,
   "metadata": {},
   "outputs": [
    {
     "name": "stdout",
     "output_type": "stream",
     "text": [
      "Collecting python-dotenv\n",
      "  Downloading python_dotenv-1.0.0-py3-none-any.whl (19 kB)\n",
      "Installing collected packages: python-dotenv\n",
      "Successfully installed python-dotenv-1.0.0\n"
     ]
    }
   ],
   "source": [
    "#install environment library\n",
    "#!pip install python-dotenv"
   ]
  },
  {
   "cell_type": "code",
   "execution_count": 58,
   "metadata": {},
   "outputs": [],
   "source": [
    "#import libraries \n",
    "import os\n",
    "from dotenv import load_dotenv\n",
    "\n",
    "import requests"
   ]
  },
  {
   "cell_type": "code",
   "execution_count": 54,
   "metadata": {},
   "outputs": [],
   "source": [
    "#get ennvironment variables\n",
    "load_dotenv()\n",
    "\n",
    "API_KEY = os.getenv('NASDAQ_API_KEY')"
   ]
  },
  {
   "cell_type": "code",
   "execution_count": 57,
   "metadata": {},
   "outputs": [],
   "source": [
    "# check api key from your .env file\n",
    "\n",
    "#print(API_KEY)"
   ]
  },
  {
   "cell_type": "markdown",
   "metadata": {},
   "source": [
    "Nasdaq Data has a large number of data sources, but, unfortunately, most of them require a Premium subscription. Still, there are also a good number of free datasets."
   ]
  },
  {
   "cell_type": "markdown",
   "metadata": {},
   "source": [
    "For this mini project, we will focus on equities data from the Frankfurt Stock Exhange (FSE), which is available for free. We'll try and analyze the stock prices of a company called Carl Zeiss Meditec, which manufactures tools for eye examinations, as well as medical lasers for laser eye surgery: https://www.zeiss.com/meditec/int/home.html. The company is listed under the stock ticker AFX_X."
   ]
  },
  {
   "cell_type": "markdown",
   "metadata": {},
   "source": [
    "You can find the detailed Nasdaq Data API instructions here: https://docs.data.nasdaq.com/docs/in-depth-usage"
   ]
  },
  {
   "cell_type": "markdown",
   "metadata": {},
   "source": [
    "While there is a dedicated Python package for connecting to the Nasdaq API, we would prefer that you use the *requests* package, which can be easily downloaded using *pip* or *conda*. You can find the documentation for the package here: http://docs.python-requests.org/en/master/ "
   ]
  },
  {
   "cell_type": "markdown",
   "metadata": {},
   "source": [
    "Finally, apart from the *requests* package, you are encouraged to not use any third party Python packages, such as *pandas*, and instead focus on what's available in the Python Standard Library (the *collections* module might come in handy: https://pymotw.com/3/collections/).\n",
    "Also, since you won't have access to DataFrames, you are encouraged to us Python's native data structures - preferably dictionaries, though some questions can also be answered using lists.\n",
    "You can read more on these data structures here: https://docs.python.org/3/tutorial/datastructures.html"
   ]
  },
  {
   "cell_type": "markdown",
   "metadata": {},
   "source": [
    "Keep in mind that the JSON responses you will be getting from the API map almost one-to-one to Python's dictionaries. Unfortunately, they can be very nested, so make sure you read up on indexing dictionaries in the documentation provided above."
   ]
  },
  {
   "cell_type": "markdown",
   "metadata": {},
   "source": [
    "Note: API's can change a bit with each version, for this exercise it is reccomended to use the nasdaq api at `https://data.nasdaq.com/api/v3/`. This is the same api as what used to be quandl so `https://www.quandl.com/api/v3/` should work too.\n",
    "\n",
    "Hint: We are looking for the `AFX_X` data on the `datasets/FSE/` dataset."
   ]
  },
  {
   "cell_type": "code",
   "execution_count": 69,
   "metadata": {},
   "outputs": [
    {
     "name": "stdout",
     "output_type": "stream",
     "text": [
      "dataset:  {'id': 10095370, 'dataset_code': 'AFX_X', 'database_code': 'FSE', 'name': 'Carl Zeiss Meditec (AFX_X)', 'description': 'Stock Prices for Carl Zeiss Meditec (2020-11-02) from the Frankfurt Stock Exchange.<br><br>Trading System: Xetra<br><br>ISIN: DE0005313704', 'refreshed_at': '2020-12-01T14:48:09.907Z', 'newest_available_date': '2020-12-01', 'oldest_available_date': '2000-06-07', 'column_names': ['Date', 'Open', 'High', 'Low', 'Close', 'Change', 'Traded Volume', 'Turnover', 'Last Price of the Day', 'Daily Traded Units', 'Daily Turnover'], 'frequency': 'daily', 'type': 'Time Series', 'premium': False, 'limit': None, 'transform': None, 'column_index': None, 'start_date': '2023-10-11', 'end_date': '2020-12-01', 'data': [], 'collapse': None, 'order': None, 'database_id': 6129}\n"
     ]
    }
   ],
   "source": [
    "# Now, call the Nasdaq API and pull out a small sample of the data (only one day) to get a glimpse\n",
    "# into the JSON structure that will be returned\n",
    "\n",
    "url = 'https://data.nasdaq.com/api/v3/datasets/FSE/AFX_X.json/'\n",
    "params = {\n",
    "    \"start_date\": \"2023-10-11\",\n",
    "    \"end_date\": \"2023-10-11\",  # Specify a single day for a sample\n",
    "    \"api_key\": API_KEY  # Using API key stored in environment variable, it's a secret but I will accept bids\n",
    "}\n",
    "\n",
    "\n",
    "r = requests.get(url, params=params)\n",
    "\n",
    "\n",
    "# Decode the JSON data into a dictionary: json_data\n",
    "json_data = r.json()\n",
    "\n",
    "# Print each key-value pair in json_data\n",
    "for k in json_data.keys():\n",
    "    print(k + ': ', json_data[k])\n"
   ]
  },
  {
   "cell_type": "code",
   "execution_count": 4,
   "metadata": {},
   "outputs": [
    {
     "data": {
      "text/plain": [
       "{'dataset': {'id': 10095370,\n",
       "  'dataset_code': 'AFX_X',\n",
       "  'database_code': 'FSE',\n",
       "  'name': 'Carl Zeiss Meditec (AFX_X)',\n",
       "  'description': 'Stock Prices for Carl Zeiss Meditec (2020-11-02) from the Frankfurt Stock Exchange.<br><br>Trading System: Xetra<br><br>ISIN: DE0005313704',\n",
       "  'refreshed_at': '2020-12-01T14:48:09.907Z',\n",
       "  'newest_available_date': '2020-12-01',\n",
       "  'oldest_available_date': '2000-06-07',\n",
       "  'column_names': ['Date',\n",
       "   'Open',\n",
       "   'High',\n",
       "   'Low',\n",
       "   'Close',\n",
       "   'Change',\n",
       "   'Traded Volume',\n",
       "   'Turnover',\n",
       "   'Last Price of the Day',\n",
       "   'Daily Traded Units',\n",
       "   'Daily Turnover'],\n",
       "  'frequency': 'daily',\n",
       "  'type': 'Time Series',\n",
       "  'premium': False,\n",
       "  'limit': None,\n",
       "  'transform': None,\n",
       "  'column_index': None,\n",
       "  'start_date': '2021-01-03',\n",
       "  'end_date': '2020-12-01',\n",
       "  'data': [],\n",
       "  'collapse': None,\n",
       "  'order': None,\n",
       "  'database_id': 6129}}"
      ]
     },
     "execution_count": 4,
     "metadata": {},
     "output_type": "execute_result"
    }
   ],
   "source": [
    "# Inspect the JSON structure of the object you created, and take note of how nested it is,\n",
    "# as well as the overall structure"
   ]
  },
  {
   "cell_type": "markdown",
   "metadata": {},
   "source": [
    "These are your tasks for this mini project:\n",
    "\n",
    "1. Collect data from the Franfurt Stock Exchange, for the ticker AFX_X, for the whole year 2017 (keep in mind that the date format is YYYY-MM-DD).\n",
    "2. Convert the returned JSON object into a Python dictionary.\n",
    "3. Calculate what the highest and lowest opening prices were for the stock in this period.\n",
    "4. What was the largest change in any one day (based on High and Low price)?\n",
    "5. What was the largest change between any two days (based on Closing Price)?\n",
    "6. What was the average daily trading volume during this year?\n",
    "7. (Optional) What was the median trading volume during this year. (Note: you may need to implement your own function for calculating the median.)"
   ]
  },
  {
   "cell_type": "code",
   "execution_count": 231,
   "metadata": {},
   "outputs": [],
   "source": [
    "# Q1: Collect data from the Franfurt Stock Exchange, for the ticker AFX_X, for the whole year 2017 (keep in mind that the date format is YYYY-MM-DD).\n",
    "# Q2: Convert the returned JSON object into a Python dictionary.\n",
    "\n",
    "# Answer: Data collected as per above instructions, and converted to a dictionary json_data"
   ]
  },
  {
   "cell_type": "code",
   "execution_count": 213,
   "metadata": {},
   "outputs": [
    {
     "name": "stdout",
     "output_type": "stream",
     "text": [
      "<class 'dict'>\n"
     ]
    }
   ],
   "source": [
    "#Setting parameters and calling the data\n",
    "\n",
    "url = 'https://data.nasdaq.com/api/v3/datasets/FSE/AFX_X.json/' #ticker as per Q1\n",
    "params = {\n",
    "    \"start_date\": \"2017-01-01\",  #start and end date as per Q1\n",
    "    \"end_date\": \"2017-12-31\",  \n",
    "    \"api_key\": API_KEY  \n",
    "}\n",
    "\n",
    "\n",
    "r = requests.get(url, params=params)\n",
    "\n",
    "# Decode the JSON data into a dictionary: json_data\n",
    "json_data = r.json() #dictionary as per Q2\n",
    "\n",
    "print(type(json_data)) #confiriming data type\n"
   ]
  },
  {
   "cell_type": "code",
   "execution_count": 214,
   "metadata": {},
   "outputs": [
    {
     "data": {
      "text/plain": [
       "['Date',\n",
       " 'Open',\n",
       " 'High',\n",
       " 'Low',\n",
       " 'Close',\n",
       " 'Change',\n",
       " 'Traded Volume',\n",
       " 'Turnover',\n",
       " 'Last Price of the Day',\n",
       " 'Daily Traded Units',\n",
       " 'Daily Turnover']"
      ]
     },
     "execution_count": 214,
     "metadata": {},
     "output_type": "execute_result"
    }
   ],
   "source": [
    "#check column names corresponding to data column\n",
    "json_data['dataset']['column_names']"
   ]
  },
  {
   "cell_type": "code",
   "execution_count": 232,
   "metadata": {},
   "outputs": [],
   "source": [
    "# Q3: Calculate what the highest and lowest opening prices were for the stock in this period.\n",
    "# Answer: (53.11, 34.0) \n",
    "# Additionally 53.11 was on date 2017-12-14 and 34 was on 2017-01-24 (code for dates at the end of next cell, plus logic replicated for rest of questions)"
   ]
  },
  {
   "cell_type": "code",
   "execution_count": 215,
   "metadata": {},
   "outputs": [
    {
     "data": {
      "text/plain": [
       "(53.11, 34.0)"
      ]
     },
     "execution_count": 215,
     "metadata": {},
     "output_type": "execute_result"
    }
   ],
   "source": [
    "# pulling data values as per column names in above output\n",
    "temp = json_data['dataset']['data']\n",
    "\n",
    "# create a set of all opening prices\n",
    "opening_price = set()\n",
    "\n",
    "for date_ in temp:\n",
    "    if date_[1] != None:\n",
    "        opening_price.add(date_[1])\n",
    "        \n",
    "#print max and min opening prices\n",
    "max(opening_price),min(opening_price)\n",
    "\n",
    "\n",
    "#some dates didn't have an opening price listed, which was strange my assumption is this due to free version of API\n",
    "#the cell below this is to share the approach to solution\n"
   ]
  },
  {
   "cell_type": "code",
   "execution_count": null,
   "metadata": {},
   "outputs": [],
   "source": [
    "\"\"\"\n",
    "# approach_cleaned for Q3 \n",
    "\n",
    "#print keys\n",
    "print(json_data.keys())\n",
    "\n",
    "#check data type\n",
    "print(type(json_data))\n",
    "\n",
    "\n",
    "#check column names corresponding to data column\n",
    "json_data['dataset']['column_names']\n",
    "\n",
    "#check data column values\n",
    "test = json_data['dataset']['data']\n",
    "print(test)\n",
    "\n",
    "\n",
    "# spot checking a particular data entry\n",
    "test[0]\n",
    "\n",
    "# get opening price for each date, scan through results\n",
    "for date_ in test:\n",
    "    print(date_[0], \"had opening price of\", date_[1])\n",
    "    \n",
    "    \n",
    "# get opening price for specific date, set to spot check date with missing opening value\n",
    "check_=\"2017-05-01\"\n",
    " (max(change, key=abs))\n",
    "test[169]\n",
    "\n",
    "\n",
    "#Later addition max and min dates\n",
    "temp = json_data['dataset']['data']\n",
    "\n",
    "# get a list of max opening and min opening price dates\n",
    "max_dates = []\n",
    "min_dates = []\n",
    "\n",
    "for date_ in temp:\n",
    "    if date_[1] == 53.11:\n",
    "        max_dates.append(date_[0])\n",
    "    elif date_[1] == 34.0:\n",
    "        min_dates.append(date_[0])\n",
    "        \n",
    "#print max and min opening dates\n",
    "print(max_dates)\n",
    "print(min_dates)\n",
    "\n",
    "\"\"\""
   ]
  },
  {
   "cell_type": "code",
   "execution_count": null,
   "metadata": {},
   "outputs": [],
   "source": [
    "# Q4.What was the largest change in any one day (based on High and Low price)?\n",
    "# Answer: Largest change in any one day (based on High and Low price) is :  -1.69 on date  2017-08-09"
   ]
  },
  {
   "cell_type": "code",
   "execution_count": 219,
   "metadata": {},
   "outputs": [
    {
     "name": "stdout",
     "output_type": "stream",
     "text": [
      "Largest change was :  -1.69 on date  2017-08-09\n"
     ]
    }
   ],
   "source": [
    "# pulling data values as per column names\n",
    "temp = json_data['dataset']['data']\n",
    "\n",
    "# create a set of all one day changes\n",
    "change = set()\n",
    "\n",
    "for date_ in temp:\n",
    "    if date_[5] != None:\n",
    "        change.add(date_[5])\n",
    "    elif date_[1] != None and date_[4] != None: #due to most change values missing, daily close - daily open has been considered when both present\n",
    "        change.add(date_[4] - date_[1])\n",
    "max_change =  (max(change, key=abs)) #get absolute max change\n",
    "\n",
    "#using max value from above to get the date\n",
    "for date_ in temp:\n",
    "    if date_[5] == max_change:\n",
    "#         print(date_[0], date_[5])\n",
    "        print('Largest change was : ', round((date_[5]),2), 'on date ' , date_[0])\n",
    "    elif date_[1] != None and date_[4] != None and date_[4] - date_[1] == max_change: \n",
    "        print('Largest change was : ', round((date_[4] - date_[1]),2), 'on date ' , date_[0]) #get printout of max change and corresopnding date\n",
    "        \n",
    "# #print largest absoulte value\n",
    "# print (max(change, key=abs))\n"
   ]
  },
  {
   "cell_type": "code",
   "execution_count": null,
   "metadata": {},
   "outputs": [],
   "source": [
    "# Q5. What was the largest change between any two days (based on Closing Price)?\n",
    "# Answer: Largest change between any two days (based on Closing Price) is 19.03"
   ]
  },
  {
   "cell_type": "code",
   "execution_count": 225,
   "metadata": {},
   "outputs": [
    {
     "name": "stdout",
     "output_type": "stream",
     "text": [
      "Largest change between any two days is:  19.03\n",
      "Highest closing price was 53.09  on  2017-12-13\n",
      "Lowest closing price was 34.06  on  2017-01-23\n"
     ]
    }
   ],
   "source": [
    "# pulling data values as per column names \n",
    "temp = json_data['dataset']['data']\n",
    "\n",
    "# create a set of all closing prices\n",
    "close = set()\n",
    "\n",
    "for date_ in temp:\n",
    "    if date_[4] != None:\n",
    "        close.add(date_[4])\n",
    "max_close =  (max(close)) #get max close value\n",
    "min_close =  (min(close)) #get min close value\n",
    "\n",
    "print('Largest change between any two days is: ', max_close - min_close)\n",
    "\n",
    "#using max and min values from above to get the dates and largest difference\n",
    "for date_ in temp:\n",
    "    if date_[4] == max_close:        \n",
    "        print('Highest closing price was', date_[4], ' on ', date_[0])\n",
    "    elif date_[4] == min_close:\n",
    "        print('Lowest closing price was', date_[4], ' on ', date_[0])"
   ]
  },
  {
   "cell_type": "code",
   "execution_count": null,
   "metadata": {},
   "outputs": [],
   "source": [
    "# Q6. What was the average daily trading volume during this year?\n",
    "# Answer: Average daily trading volume during this year is:  89124.34"
   ]
  },
  {
   "cell_type": "code",
   "execution_count": 228,
   "metadata": {},
   "outputs": [
    {
     "name": "stdout",
     "output_type": "stream",
     "text": [
      "Average daily trading volume during this year is:  89124.34\n"
     ]
    }
   ],
   "source": [
    "# pulling data values as per column names \n",
    "temp = json_data['dataset']['data']\n",
    "\n",
    "# create a list of all daily trading volume\n",
    "# Note unlike above problems using list here as duplicate values will impact average and need to be included\n",
    "trade_volume = []\n",
    "\n",
    "for date_ in temp:\n",
    "    if date_[6] != None:\n",
    "        trade_volume.append(date_[6])\n",
    "avg_trade_volume =  round((sum(trade_volume)/len(trade_volume)),2) #get avg value\n",
    "\n",
    "\n",
    "print('Average daily trading volume during this year is: ', avg_trade_volume)"
   ]
  },
  {
   "cell_type": "code",
   "execution_count": null,
   "metadata": {},
   "outputs": [],
   "source": [
    "# Q7. (Optional) What was the median trading volume during this year?\n",
    "# Answer: Median daily trading volume is: 76286.0"
   ]
  },
  {
   "cell_type": "code",
   "execution_count": 230,
   "metadata": {},
   "outputs": [
    {
     "name": "stdout",
     "output_type": "stream",
     "text": [
      "Median daily trading volume during this year is:  76286.0\n"
     ]
    }
   ],
   "source": [
    "# pulling data values as per column names \n",
    "temp = json_data['dataset']['data']\n",
    "\n",
    "# create a list of all daily trading volume\n",
    "# Note unlike problems Q3 to Q5 using list here as duplicate values will impact median and need to be included\n",
    "trade_volume = []\n",
    "\n",
    "for date_ in temp:\n",
    "    if date_[6] != None:\n",
    "        trade_volume.append(date_[6])\n",
    "\n",
    "trade_volume.sort()\n",
    "mid = len(trade_volume) // 2\n",
    "median_trade_volume =  (trade_volume[mid] + trade_volume[~mid]) / 2 #get median value\n",
    "\n",
    "\n",
    "print('Median daily trading volume during this year is: ', median_trade_volume)"
   ]
  },
  {
   "cell_type": "code",
   "execution_count": null,
   "metadata": {},
   "outputs": [],
   "source": []
  }
 ],
 "metadata": {
  "interpreter": {
   "hash": "7635eb1b9d0fe97add78a7368b6b431c09bb8ad5c42e437d64abdd99821c31ae"
  },
  "kernelspec": {
   "display_name": "Python 3 (ipykernel)",
   "language": "python",
   "name": "python3"
  },
  "language_info": {
   "codemirror_mode": {
    "name": "ipython",
    "version": 3
   },
   "file_extension": ".py",
   "mimetype": "text/x-python",
   "name": "python",
   "nbconvert_exporter": "python",
   "pygments_lexer": "ipython3",
   "version": "3.10.9"
  }
 },
 "nbformat": 4,
 "nbformat_minor": 4
}
